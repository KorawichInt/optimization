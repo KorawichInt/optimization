{
 "cells": [
  {
   "cell_type": "code",
   "execution_count": 1,
   "metadata": {},
   "outputs": [],
   "source": [
    "import numpy as np\n",
    "import random\n",
    "from sklearn.model_selection import cross_val_score\n",
    "from sklearn.datasets import load_breast_cancer, load_wine\n",
    "from sklearn.neighbors import KNeighborsClassifier\n",
    "import matplotlib.pyplot as plt"
   ]
  },
  {
   "cell_type": "code",
   "execution_count": 3,
   "metadata": {},
   "outputs": [
    {
     "name": "stdout",
     "output_type": "stream",
     "text": [
      "(569, 30) (569,)\n",
      "['mean radius' 'mean texture' 'mean perimeter' 'mean area'\n",
      " 'mean smoothness' 'mean compactness' 'mean concavity'\n",
      " 'mean concave points' 'mean symmetry' 'mean fractal dimension'\n",
      " 'radius error' 'texture error' 'perimeter error' 'area error'\n",
      " 'smoothness error' 'compactness error' 'concavity error'\n",
      " 'concave points error' 'symmetry error' 'fractal dimension error'\n",
      " 'worst radius' 'worst texture' 'worst perimeter' 'worst area'\n",
      " 'worst smoothness' 'worst compactness' 'worst concavity'\n",
      " 'worst concave points' 'worst symmetry' 'worst fractal dimension']\n"
     ]
    }
   ],
   "source": [
    "# Load datasets\n",
    "data1 = load_breast_cancer()\n",
    "X1 = data1.data  # Features\n",
    "y1 = data1.target  # Target\n",
    "feature_names1 = data1.feature_names  # Feature names for Breast Cancer\n",
    "print(X1.shape, y1.shape)\n",
    "print(feature_names1)"
   ]
  },
  {
   "cell_type": "code",
   "execution_count": 8,
   "metadata": {},
   "outputs": [],
   "source": [
    "class ACOFeatureSelection:\n",
    "    def __init__(self, n_ants, n_iterations, evaporation_rate, alpha, beta, classifier, dataset, target, feature_names=None):\n",
    "        self.n_ants = n_ants\n",
    "        self.n_iterations = n_iterations\n",
    "        self.evaporation_rate = evaporation_rate\n",
    "        self.alpha = alpha  # Importance of pheromone\n",
    "        self.beta = beta    # Importance of heuristic information\n",
    "        self.classifier = classifier\n",
    "        self.dataset = dataset\n",
    "        self.target = target\n",
    "        self.n_features = dataset.shape[1]\n",
    "        self.pheromone = np.ones(self.n_features)  # Initial pheromone levels\n",
    "        self.best_features = None\n",
    "        self.best_score = 0\n",
    "        self.performance_best = []  # Performance with best features at each iteration\n",
    "        self.performance_all = []   # Performance with all features at each iteration\n",
    "        self.feature_names = feature_names if feature_names is not None else [f\"Feature {i}\" for i in range(self.n_features)]\n",
    "\n",
    "    def heuristic_info(self):\n",
    "        \"\"\"Heuristic information: Initially, treat all features equally.\"\"\"\n",
    "        return np.ones(self.n_features)\n",
    "\n",
    "    def select_features(self, pheromone, heuristic):\n",
    "        \"\"\"Select features probabilistically based on pheromone and heuristic information.\"\"\"\n",
    "        probabilities = []\n",
    "        for i in range(self.n_features):\n",
    "            probabilities.append((pheromone[i] ** self.alpha) * (heuristic[i] ** self.beta))\n",
    "\n",
    "        probabilities = np.array(probabilities) / np.sum(probabilities)  # Normalize probabilities\n",
    "\n",
    "        # Roulette wheel selection: select features based on their probabilities\n",
    "        selected_features = []\n",
    "        for i in range(self.n_features):\n",
    "            if random.random() < probabilities[i]:  # Probabilistically select feature\n",
    "                selected_features.append(i)\n",
    "\n",
    "        # Ensure at least one feature is selected\n",
    "        if not selected_features:\n",
    "            selected_features = [random.choice(range(self.n_features))]\n",
    "\n",
    "        return selected_features\n",
    "\n",
    "    def evaluate_features(self, selected_features):\n",
    "        \"\"\"Evaluate a subset of features using the classifier.\"\"\"\n",
    "        X_selected = self.dataset[:, selected_features]\n",
    "        score = cross_val_score(self.classifier, X_selected, self.target, cv=5).mean()\n",
    "        return score\n",
    "\n",
    "    def evaluate_all_features(self):\n",
    "        \"\"\"Evaluate the performance using all features.\"\"\"\n",
    "        score = cross_val_score(self.classifier, self.dataset, self.target, cv=5).mean()\n",
    "        return score\n",
    "\n",
    "    def update_pheromones(self, ants_solutions):\n",
    "        \"\"\"Update pheromones based on the performance of ants.\"\"\"\n",
    "        # Evaporate pheromone\n",
    "        self.pheromone *= (1 - self.evaporation_rate)\n",
    "\n",
    "        # Update pheromone based on performance\n",
    "        for features, score in ants_solutions:\n",
    "            pheromone_increase = score / self.best_score if self.best_score > 0 else score\n",
    "            for feature in features:\n",
    "                self.pheromone[feature] += pheromone_increase  # Reward proportionally to score\n",
    "\n",
    "    def optimize(self):\n",
    "        \"\"\"Main loop of the ACO algorithm.\"\"\"\n",
    "        heuristic = self.heuristic_info()\n",
    "\n",
    "        for iteration in range(self.n_iterations):\n",
    "            ants_solutions = []\n",
    "            \n",
    "            # Step 1: Evaluate the performance with all features\n",
    "            score_all_features = self.evaluate_all_features()\n",
    "            self.performance_all.append(score_all_features)\n",
    "            \n",
    "            for ant in range(self.n_ants):\n",
    "                # Each ant selects features based on pheromone and heuristic info\n",
    "                selected_features = self.select_features(self.pheromone, heuristic)\n",
    "                score = self.evaluate_features(selected_features)\n",
    "                ants_solutions.append((selected_features, score))\n",
    "\n",
    "                # Track the best feature subset\n",
    "                if score > self.best_score:\n",
    "                    self.best_score = score\n",
    "                    self.best_features = selected_features\n",
    "\n",
    "            # Step 2: Update pheromones based on ants' solutions\n",
    "            self.update_pheromones(ants_solutions)\n",
    "\n",
    "            # Step 3: Record best performance (with the best subset of features)\n",
    "            self.performance_best.append(self.best_score)\n",
    "            if (iteration+1) == 1 or (iteration+1)%10 == 0:\n",
    "                print(f\"Iteration {iteration+1}/{self.n_iterations}, Best Score: {self.best_score:.4f}, All Features Score: {score_all_features:.4f}\")\n",
    "\n",
    "        return self.best_features, self.best_score\n",
    "\n",
    "    def plot_performance(self):\n",
    "        \"\"\"Plot the performance over iterations.\"\"\"\n",
    "        plt.plot(self.performance_best, label='Best Feature Subset Performance')\n",
    "        plt.plot(self.performance_all, label='All Features Performance', linestyle='--')\n",
    "        plt.xlabel('Iteration')\n",
    "        plt.ylabel('Accuracy')\n",
    "        plt.title('ACO Feature Selection: Best Subset vs All Features')\n",
    "        plt.legend()\n",
    "        plt.show()\n",
    "\n",
    "    def output_selected_and_not_selected_features(self):\n",
    "        \"\"\"Print the features that were selected and not selected.\"\"\"\n",
    "        selected_features = self.best_features\n",
    "        not_selected_features = [i for i in range(self.n_features) if i not in selected_features]\n",
    "\n",
    "        print(\"\\nSelected Features:\")\n",
    "        for feature in selected_features:\n",
    "            print(f\"- {self.feature_names[feature]}\")\n",
    "\n",
    "        print(\"\\nNot Selected Features:\")\n",
    "        for feature in not_selected_features:\n",
    "            print(f\"- {self.feature_names[feature]}\")"
   ]
  },
  {
   "cell_type": "code",
   "execution_count": 13,
   "metadata": {},
   "outputs": [],
   "source": [
    "# Parameters for the ACO algorithm\n",
    "n_ants = 40\n",
    "n_iterations =   20\n",
    "evaporation_rate = 0.3\n",
    "alpha = 1.0  # Importance of pheromone\n",
    "beta = 1.0   # Importance of heuristic information\n",
    "\n",
    "# Classifier: k-NN (can try others, like SVM or Decision Trees)\n",
    "classifier = KNeighborsClassifier(n_neighbors=5)"
   ]
  },
  {
   "cell_type": "code",
   "execution_count": 14,
   "metadata": {},
   "outputs": [
    {
     "name": "stdout",
     "output_type": "stream",
     "text": [
      "Running ACO on Breast Cancer Dataset:\n",
      "Iteration 1/20, Best Score: 0.9245, All Features Score: 0.9279\n",
      "Iteration 10/20, Best Score: 0.9508, All Features Score: 0.9279\n",
      "Iteration 20/20, Best Score: 0.9508, All Features Score: 0.9279\n"
     ]
    },
    {
     "data": {
      "image/png": "[encoded data removed]",
      "text/plain": [
       "<Figure size 640x480 with 1 Axes>"
      ]
     },
     "metadata": {},
     "output_type": "display_data"
    }
   ],
   "source": [
    "# Breast Cancer Dataset\n",
    "print(\"Running ACO on Breast Cancer Dataset:\")\n",
    "aco1 = ACOFeatureSelection(n_ants=n_ants, n_iterations=n_iterations, evaporation_rate=evaporation_rate,\n",
    "                          alpha=alpha, beta=beta, classifier=classifier, dataset=X1, target=y1, feature_names=feature_names1)\n",
    "best_features1, best_score1 = aco1.optimize()\n",
    "aco1.plot_performance()"
   ]
  },
  {
   "cell_type": "code",
   "execution_count": 12,
   "metadata": {},
   "outputs": [
    {
     "name": "stdout",
     "output_type": "stream",
     "text": [
      "\n",
      "Selected Features:\n",
      "- mean radius\n",
      "- worst perimeter\n",
      "\n",
      "Not Selected Features:\n",
      "- mean texture\n",
      "- mean perimeter\n",
      "- mean area\n",
      "- mean smoothness\n",
      "- mean compactness\n",
      "- mean concavity\n",
      "- mean concave points\n",
      "- mean symmetry\n",
      "- mean fractal dimension\n",
      "- radius error\n",
      "- texture error\n",
      "- perimeter error\n",
      "- area error\n",
      "- smoothness error\n",
      "- compactness error\n",
      "- concavity error\n",
      "- concave points error\n",
      "- symmetry error\n",
      "- fractal dimension error\n",
      "- worst radius\n",
      "- worst texture\n",
      "- worst area\n",
      "- worst smoothness\n",
      "- worst compactness\n",
      "- worst concavity\n",
      "- worst concave points\n",
      "- worst symmetry\n",
      "- worst fractal dimension\n",
      "Best classification score for Breast Cancer: 0.9385\n"
     ]
    }
   ],
   "source": [
    "aco1.output_selected_and_not_selected_features()\n",
    "print(f\"Best classification score for Breast Cancer: {best_score1:.4f}\")"
   ]
  }
 ],
 "metadata": {
  "kernelspec": {
   "display_name": "venv",
   "language": "python",
   "name": "python3"
  },
  "language_info": {
   "codemirror_mode": {
    "name": "ipython",
    "version": 3
   },
   "file_extension": ".py",
   "mimetype": "text/x-python",
   "name": "python",
   "nbconvert_exporter": "python",
   "pygments_lexer": "ipython3",
   "version": "3.11.9"
  }
 },
 "nbformat": 4,
 "nbformat_minor": 2
}
